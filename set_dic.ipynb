{
 "cells": [
  {
   "cell_type": "code",
   "execution_count": 1,
   "metadata": {},
   "outputs": [
    {
     "name": "stdout",
     "output_type": "stream",
     "text": [
      "{1, 2, '3', 4, 5}\n"
     ]
    }
   ],
   "source": [
    "# Creat a set with initial values \n",
    "s = {1,2,'3',4,5}\n",
    "print(s)"
   ]
  },
  {
   "cell_type": "code",
   "execution_count": 2,
   "metadata": {},
   "outputs": [
    {
     "name": "stdout",
     "output_type": "stream",
     "text": [
      "{'apple', 'orange', 'banana'}\n"
     ]
    }
   ],
   "source": [
    "s = {'apple','orange','banana'}\n",
    "print(s)"
   ]
  },
  {
   "cell_type": "code",
   "execution_count": 6,
   "metadata": {},
   "outputs": [
    {
     "name": "stdout",
     "output_type": "stream",
     "text": [
      "{1, 2, 3, 4}\n",
      "4\n"
     ]
    }
   ],
   "source": [
    "# use set() to convert a list to a set \n",
    "s = set([1,2,3,4,1,2,3])\n",
    "print (s)\n",
    "print(len(s))"
   ]
  },
  {
   "cell_type": "code",
   "execution_count": 24,
   "metadata": {},
   "outputs": [
    {
     "name": "stdout",
     "output_type": "stream",
     "text": [
      "{'jonh', 'Any', 'Mary', 'peter'}\n",
      "{'jonh', 'Any', 'peter'}\n"
     ]
    },
    {
     "data": {
      "text/plain": [
       "set()"
      ]
     },
     "execution_count": 24,
     "metadata": {},
     "output_type": "execute_result"
    }
   ],
   "source": [
    "name = {\"jonh\",\"Mary\",\"peter\"}\n",
    "name.add(\"Any\")\n",
    "print(name)\n",
    "name.discard(\"Mary\")\n",
    "print(name)\n",
    "name.clear()\n",
    "name\n",
    "\n",
    "\n"
   ]
  },
  {
   "cell_type": "code",
   "execution_count": 25,
   "metadata": {},
   "outputs": [
    {
     "name": "stdout",
     "output_type": "stream",
     "text": [
      "True\n"
     ]
    }
   ],
   "source": [
    "name = {'john','Mary','Peter'}\n",
    "name2 = {'john','Mary','Peter'}\n",
    "print(name2.issubset(name))"
   ]
  },
  {
   "cell_type": "code",
   "execution_count": 30,
   "metadata": {},
   "outputs": [
    {
     "name": "stdout",
     "output_type": "stream",
     "text": [
      "{1, 2, 3, 4, 5, 6, 8}\n",
      "{1, 2, 3, 4, 5, 6, 8}\n"
     ]
    }
   ],
   "source": [
    "s1 = {1,2,3,4,5}\n",
    "s2 = {1,2,6,3,8}\n",
    "union_set = s1.union(s2)\n",
    "print(union_set)\n",
    "union_set = s1 | s2 \n",
    "print(union_set)"
   ]
  },
  {
   "cell_type": "code",
   "execution_count": 32,
   "metadata": {},
   "outputs": [
    {
     "name": "stdout",
     "output_type": "stream",
     "text": [
      "{1, 2, 3}\n",
      "{1, 2, 3}\n"
     ]
    }
   ],
   "source": [
    "intersection = s1.intersection(s2)\n",
    "print(intersection)\n",
    "intersection = s1 & s2\n",
    "print(intersection)\n",
    "# INNER JOIN "
   ]
  },
  {
   "cell_type": "code",
   "execution_count": 34,
   "metadata": {},
   "outputs": [
    {
     "name": "stdout",
     "output_type": "stream",
     "text": [
      "{4, 5}\n"
     ]
    },
    {
     "data": {
      "text/plain": [
       "{4, 5}"
      ]
     },
     "execution_count": 34,
     "metadata": {},
     "output_type": "execute_result"
    }
   ],
   "source": [
    "difference = s1.difference(s2)\n",
    "print(difference)\n",
    "difference = s1 - s2\n",
    "difference"
   ]
  },
  {
   "cell_type": "code",
   "execution_count": null,
   "metadata": {},
   "outputs": [],
   "source": []
  },
  {
   "cell_type": "code",
   "execution_count": 36,
   "metadata": {},
   "outputs": [
    {
     "name": "stdout",
     "output_type": "stream",
     "text": [
      "[1, 6]\n"
     ]
    }
   ],
   "source": [
    "def ex2(list1,list2):\n",
    "    intersection = set(list1) & set(list2)\n",
    "    return list(set(intersection))\n",
    "l1 = [1,2,4,5,1,3,4,5,6]\n",
    "l2 =  [1,6,8,9]\n",
    "print(ex2(l1,l2))\n",
    "    "
   ]
  },
  {
   "cell_type": "code",
   "execution_count": 63,
   "metadata": {},
   "outputs": [],
   "source": [
    "inforDict = {\n",
    "    0: {'Name': 'Hà Quang Tuấn',\n",
    "        'Phone': '0937623590',\n",
    "        'gender': 'Nam',\n",
    "        'Age': 32,\n",
    "        'birthPlace': 'Thái Bình',\n",
    "        'birthDate': '05/01/1990',\n",
    "        'email': '21093283@vnu.edu.vn'},\n",
    "    1: {'Name': 'Trần Hải Nam',\n",
    "        'Phone': '0981344528',\n",
    "        'gender': 'Nam',\n",
    "        'Age': 31,\n",
    "        'birthPlace': 'Hải Dương',\n",
    "        'birthDate': '20/01/1991',\n",
    "        'email': '21039231@vnu.edu.vn'},\n",
    "    2: {'Name': 'Dương Trung Đức',\n",
    "        'Phone': '0917613311',\n",
    "        'gender': 'Nam',\n",
    "        'birthPlace': 'Hà Nội',\n",
    "        \n",
    "        'birthDate': '25/05/1990',\n",
    "        'email': '21083823@vnu.edu.vn'},\n",
    "    3: {'Name': 'Đinh Lê Đức Nam',\n",
    "        'Phone': '0978971659',\n",
    "        'gender': 'Nam',\n",
    "        'birthPlace': 'Tuyên Quang',\n",
    "        'birthDate': '18/10/2003',\n",
    "        'email': '21070878@vnu.edu.vn'}\n",
    "\n",
    "}"
   ]
  },
  {
   "cell_type": "code",
   "execution_count": 81,
   "metadata": {},
   "outputs": [],
   "source": [
    "inforDict = {\n",
    "    4: {'Name': 'Hà Quang Tuấn',\n",
    "        'Phone': '0937623590',\n",
    "        'gender': 'Nam',\n",
    "        'Age': 32,\n",
    "        'birthPlace': 'Thái Bình',\n",
    "        'birthDate': '05/01/1990',\n",
    "        'email': '21093283@vnu.edu.vn'}}\n",
    "inforDict[4]['Address'] = 'Dinh Le Duc Nam'\n",
    "\n"
   ]
  },
  {
   "cell_type": "code",
   "execution_count": 72,
   "metadata": {},
   "outputs": [
    {
     "name": "stdout",
     "output_type": "stream",
     "text": [
      "{4: {'Name': 'Hà Quang Tuấn', 'Phone': '0937623590', 'gender': 'Nam', 'Age': 32, 'birthPlace': 'Thái Bình', 'birthDate': '05/01/1990', 'email': '21093283@vnu.edu.vn', 'Address': 'Dinh Le Duc Nam'}}\n"
     ]
    }
   ],
   "source": [
    "print(inforDict)\n",
    "del inforDict[4]['Address']"
   ]
  },
  {
   "cell_type": "code",
   "execution_count": 82,
   "metadata": {},
   "outputs": [
    {
     "name": "stdout",
     "output_type": "stream",
     "text": [
      "{'Name': 'Hà Quang Tuấn', 'Phone': '0937623590', 'gender': 'Nam', 'Age': 32, 'birthPlace': 'Thái Bình', 'birthDate': '05/01/1990', 'email': '21093283@vnu.edu.vn'}\n"
     ]
    }
   ],
   "source": [
    "removed  = inforDict[4].pop('Address')\n",
    "print(inforDict[4])\n",
    "dict.clear()"
   ]
  },
  {
   "cell_type": "code",
   "execution_count": null,
   "metadata": {},
   "outputs": [],
   "source": []
  }
 ],
 "metadata": {
  "kernelspec": {
   "display_name": "base",
   "language": "python",
   "name": "python3"
  },
  "language_info": {
   "codemirror_mode": {
    "name": "ipython",
    "version": 3
   },
   "file_extension": ".py",
   "mimetype": "text/x-python",
   "name": "python",
   "nbconvert_exporter": "python",
   "pygments_lexer": "ipython3",
   "version": "3.9.13"
  }
 },
 "nbformat": 4,
 "nbformat_minor": 2
}
