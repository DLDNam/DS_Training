{
 "cells": [
  {
   "cell_type": "code",
   "execution_count": 12,
   "metadata": {},
   "outputs": [],
   "source": [
    "person = {\n",
    "    'name': 'Vũ Thanh Tài',\n",
    "    'age': 22,\n",
    "    'male': True,\n",
    "    'status': 'single'        \n",
    "    }"
   ]
  },
  {
   "cell_type": "code",
   "execution_count": 13,
   "metadata": {},
   "outputs": [
    {
     "name": "stdout",
     "output_type": "stream",
     "text": [
      "{'name': 'Dinh Le Duc Nam', 'age': 22, 'male': True, 'status': 'single'}\n"
     ]
    }
   ],
   "source": [
    "# thay đổi giá trị trong dic\n",
    "person['name'] = 'Dinh Le Duc Nam'\n",
    "print(person)"
   ]
  },
  {
   "cell_type": "code",
   "execution_count": 10,
   "metadata": {},
   "outputs": [
    {
     "data": {
      "text/plain": [
       "'Vũ Thanh Tài'"
      ]
     },
     "execution_count": 10,
     "metadata": {},
     "output_type": "execute_result"
    }
   ],
   "source": [
    "# Truy cập đến các phần tử trong Dic \n",
    "# DicName[key]\n",
    "person['name']"
   ]
  },
  {
   "cell_type": "code",
   "execution_count": null,
   "metadata": {},
   "outputs": [],
   "source": [
    "# xóa phần tử trong dic \n",
    "del person['status']"
   ]
  },
  {
   "cell_type": "code",
   "execution_count": 22,
   "metadata": {},
   "outputs": [
    {
     "name": "stdout",
     "output_type": "stream",
     "text": [
      "Dinh Le Duc Nam\n",
      "22\n",
      "True\n",
      "single\n"
     ]
    }
   ],
   "source": [
    "for i in person.items():\n",
    "    print(i[1])"
   ]
  },
  {
   "cell_type": "code",
   "execution_count": null,
   "metadata": {},
   "outputs": [],
   "source": [
    "inforDict = {\n",
    "    0: {'Name': 'Hà Quang Tuấn',\n",
    "        'Phone': '0937623590',\n",
    "        'gender': 'Nam',\n",
    "        'Age': 32,\n",
    "        'birthPlace': 'Thái Bình',\n",
    "        'birthDate': '05/01/1990',\n",
    "        'email': '21093283@vnu.edu.vn'},\n",
    "    1: {'Name': 'Trần Hải Nam',\n",
    "        'Phone': '0981344528',\n",
    "        'gender': 'Nam',\n",
    "        'Age': 31,\n",
    "        'birthPlace': 'Hải Dương',\n",
    "        'birthDate': '20/01/1991',\n",
    "        'email': '21039231@vnu.edu.vn'},\n",
    "    2: {'Name': 'Dương Trung Đức',\n",
    "        'Phone': '0917613311',\n",
    "        'gender': 'Nam',\n",
    "        'birthPlace': 'Hà Nội',\n",
    "        \n",
    "        'birthDate': '25/05/1990',\n",
    "        'email': '21083823@vnu.edu.vn'},\n",
    "    3: {'Name': 'Đinh Lê Đức Nam',\n",
    "        'Phone': '0978971659',\n",
    "        'gender': 'Nam',\n",
    "        'birthPlace': 'Tuyên Quang',\n",
    "        'birthDate': '18/10/2003',\n",
    "        'email': '21070878@vnu.edu.vn'}\n",
    "\n",
    "}"
   ]
  }
 ],
 "metadata": {
  "kernelspec": {
   "display_name": "Python 3",
   "language": "python",
   "name": "python3"
  },
  "language_info": {
   "codemirror_mode": {
    "name": "ipython",
    "version": 3
   },
   "file_extension": ".py",
   "mimetype": "text/x-python",
   "name": "python",
   "nbconvert_exporter": "python",
   "pygments_lexer": "ipython3",
   "version": "3.10.1"
  }
 },
 "nbformat": 4,
 "nbformat_minor": 2
}
