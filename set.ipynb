{
 "cells": [
  {
   "cell_type": "code",
   "execution_count": 58,
   "metadata": {},
   "outputs": [
    {
     "name": "stdout",
     "output_type": "stream",
     "text": [
      "{1, 2, 3, '3', 5, 4}\n"
     ]
    }
   ],
   "source": [
    "# Creat a set with initial values \n",
    "s = {1,2,'3',4,5,3}\n",
    "print(s)"
   ]
  },
  {
   "cell_type": "code",
   "execution_count": 59,
   "metadata": {},
   "outputs": [
    {
     "name": "stdout",
     "output_type": "stream",
     "text": [
      "{'apple', 'orange', 'banana'}\n"
     ]
    }
   ],
   "source": [
    "s = {'apple','orange','banana'}\n",
    "print(s)"
   ]
  },
  {
   "cell_type": "code",
   "execution_count": 60,
   "metadata": {},
   "outputs": [
    {
     "name": "stdout",
     "output_type": "stream",
     "text": [
      "{1, 2, 3, 4}\n",
      "4\n"
     ]
    }
   ],
   "source": [
    "# use set() to convert a list to a set \n",
    "s = set([1,2,3,4,1,2,3])\n",
    "print (s)\n",
    "print(len(s))"
   ]
  },
  {
   "cell_type": "code",
   "execution_count": 61,
   "metadata": {},
   "outputs": [
    {
     "name": "stdout",
     "output_type": "stream",
     "text": [
      "{'jonh', 'Any', 'peter', 'Mary'}\n"
     ]
    }
   ],
   "source": [
    "#Thêm \n",
    "name = {\"jonh\",\"Mary\",\"peter\"}\n",
    "name.add(\"Any\")\n",
    "print(name)\n",
    "\n",
    "\n",
    "\n"
   ]
  },
  {
   "cell_type": "code",
   "execution_count": 62,
   "metadata": {},
   "outputs": [],
   "source": [
    "name.remove(\"Any\")"
   ]
  },
  {
   "cell_type": "code",
   "execution_count": 63,
   "metadata": {},
   "outputs": [
    {
     "name": "stdout",
     "output_type": "stream",
     "text": [
      "{'jonh', 'peter'}\n"
     ]
    }
   ],
   "source": [
    "# xóa\n",
    "name.discard(\"Mary\")\n",
    "print(name)"
   ]
  },
  {
   "cell_type": "code",
   "execution_count": 64,
   "metadata": {},
   "outputs": [
    {
     "name": "stdout",
     "output_type": "stream",
     "text": [
      "True\n"
     ]
    }
   ],
   "source": [
    "name = {'john','Mary','Peter'}\n",
    "name2 = {'john','Mary','Peter'}\n",
    "print(name2.issubset(name))"
   ]
  },
  {
   "cell_type": "code",
   "execution_count": 65,
   "metadata": {},
   "outputs": [
    {
     "name": "stdout",
     "output_type": "stream",
     "text": [
      "{1, 2, 3, 4, 5, 6, 8}\n",
      "{1, 2, 3, 4, 5, 6, 8}\n"
     ]
    }
   ],
   "source": [
    "s1 = {1,2,3,4,5}\n",
    "s2 = {1,2,6,3,8}\n",
    "union_set = s1.union(s2)\n",
    "print(union_set)\n",
    "union_set = s1 | s2 \n",
    "print(union_set)"
   ]
  },
  {
   "cell_type": "code",
   "execution_count": 66,
   "metadata": {},
   "outputs": [
    {
     "name": "stdout",
     "output_type": "stream",
     "text": [
      "{1, 2, 3}\n",
      "{1, 2, 3}\n"
     ]
    }
   ],
   "source": [
    "s1 = {1,2,3,4,5}\n",
    "s2 = {1,2,6,3,8}\n",
    "intersection = s1.intersection(s2)\n",
    "print(intersection)\n",
    "intersection = s1 & s2\n",
    "print(intersection)\n",
    "# INNER JOIN "
   ]
  },
  {
   "cell_type": "code",
   "execution_count": 67,
   "metadata": {},
   "outputs": [
    {
     "name": "stdout",
     "output_type": "stream",
     "text": [
      "{4, 5}\n"
     ]
    },
    {
     "data": {
      "text/plain": [
       "{4, 5}"
      ]
     },
     "execution_count": 67,
     "metadata": {},
     "output_type": "execute_result"
    }
   ],
   "source": [
    "difference = s1.difference(s2)\n",
    "print(difference)\n",
    "difference = s1 - s2\n",
    "difference"
   ]
  },
  {
   "cell_type": "code",
   "execution_count": 78,
   "metadata": {},
   "outputs": [
    {
     "name": "stdout",
     "output_type": "stream",
     "text": [
      "True\n"
     ]
    }
   ],
   "source": [
    "s1 = {1,2,3}\n",
    "s2 = {1,2,3,4,5,1}\n",
    "print(s1.issubset(s2))"
   ]
  },
  {
   "cell_type": "code",
   "execution_count": 68,
   "metadata": {},
   "outputs": [
    {
     "name": "stdout",
     "output_type": "stream",
     "text": [
      "[1, 6]\n"
     ]
    }
   ],
   "source": [
    "def ex2(list1,list2):\n",
    "    intersection = set(list1) & set(list2)\n",
    "    return list(set(intersection))\n",
    "l1 = [1,2,4,5,1,3,4,5,6]\n",
    "l2 =  [1,6,8,9]\n",
    "print(ex2(l1,l2))\n",
    "    "
   ]
  },
  {
   "cell_type": "code",
   "execution_count": 69,
   "metadata": {},
   "outputs": [],
   "source": [
    "inforDict = {\n",
    "    0: {'Name': 'Hà Quang Tuấn',\n",
    "        'Phone': '0937623590',\n",
    "        'gender': 'Nam',\n",
    "        'Age': 32,\n",
    "        'birthPlace': 'Thái Bình',\n",
    "        'birthDate': '05/01/1990',\n",
    "        'email': '21093283@vnu.edu.vn'},\n",
    "    1: {'Name': 'Trần Hải Nam',\n",
    "        'Phone': '0981344528',\n",
    "        'gender': 'Nam',\n",
    "        'Age': 31,\n",
    "        'birthPlace': 'Hải Dương',\n",
    "        'birthDate': '20/01/1991',\n",
    "        'email': '21039231@vnu.edu.vn'},\n",
    "    2: {'Name': 'Dương Trung Đức',\n",
    "        'Phone': '0917613311',\n",
    "        'gender': 'Nam',\n",
    "        'birthPlace': 'Hà Nội',\n",
    "        'birthDate': '25/05/1990',\n",
    "        'email': '21083823@vnu.edu.vn'},\n",
    "    3: {'Name': 'Đinh Lê Đức Nam',\n",
    "        'Phone': '0978971659',\n",
    "        'gender': 'Nam',\n",
    "        'birthPlace': 'Tuyên Quang',\n",
    "        'birthDate': '18/10/2003',\n",
    "        'email': '21070878@vnu.edu.vn'},\n",
    "    4: {'Name': 'Nguyễn Thị Hương',\n",
    "        'Phone': '0987654321',\n",
    "        'gender': 'Nữ',\n",
    "        'Age': 28,\n",
    "        'birthPlace': 'Hà Nội',\n",
    "        'birthDate': '10/07/1995',\n",
    "        'email': '21012345@vnu.edu.vn'},\n",
    "    5: {'Name': 'Trần Văn A',\n",
    "        'Phone': '0912345678',\n",
    "        'gender': 'Nam',\n",
    "        'Age': 35,\n",
    "        'birthPlace': 'Hồ Chí Minh',\n",
    "        'birthDate': '15/03/1988',\n",
    "        'email': '21067890@vnu.edu.vn'},\n",
    "    6: {'Name': 'Nguyễn Thị B',\n",
    "        'Phone': '0965432198',\n",
    "        'gender': 'Nữ',\n",
    "        'Age': 29,\n",
    "        'birthPlace': 'Đà Nẵng',\n",
    "        'birthDate': '02/09/1992',\n",
    "        'email': '21054321@vnu.edu.vn'},\n",
    "    7: {'Name': 'Lê Văn C',\n",
    "        'Phone': '0943216789',\n",
    "        'gender': 'Nam',\n",
    "        'Age': 27,\n",
    "        'birthPlace': 'Nghệ An',\n",
    "        'birthDate': '12/11/1994',\n",
    "        'email': '21098765@vnu.edu.vn'},\n",
    "    8: {'Name': 'Phạm Thị D',\n",
    "        'Phone': '0932167890',\n",
    "        'gender': 'Nữ',\n",
    "        'birthPlace': 'Hải Phòng',\n",
    "        'birthDate': '28/06/1993',\n",
    "        'email': '21023456@vnu.edu.vn'}\n",
    "}"
   ]
  },
  {
   "cell_type": "code",
   "execution_count": 70,
   "metadata": {},
   "outputs": [],
   "source": [
    "inforDict = {\n",
    "    0: {'Name': 'Hà Quang Tuấn',\n",
    "        'Phone': '0937623590',\n",
    "        'gender': 'Nam',\n",
    "        'Age': 32,\n",
    "        'birthPlace': 'Thái Bình',\n",
    "        'birthDate': '05/01/1990',\n",
    "        'email': '21093283@vnu.edu.vn'},\n",
    "    1: {'Name': 'Trần Hải Nam',\n",
    "        'Phone': '0981344528',\n",
    "        'gender': 'Nam',\n",
    "        'Age': 31,\n",
    "        'birthPlace': 'Hải Dương',\n",
    "        'birthDate': '20/01/1991',\n",
    "        'email': '21039231@vnu.edu.vn'},\n",
    "    2: {'Name': 'Dương Trung Đức',\n",
    "        'Phone': '0917613311',\n",
    "        'gender': 'Nam',\n",
    "        'birthPlace': 'Hà Nội',\n",
    "        \n",
    "        'birthDate': '25/05/1990',\n",
    "        'email': '21083823@vnu.edu.vn'},\n",
    "    3: {'Name': 'Đinh Lê Đức Nam',\n",
    "        'Phone': '0978971659',\n",
    "        'gender': 'Nam',\n",
    "        'birthPlace': 'Tuyên Quang',\n",
    "        'birthDate': '18/10/2003',\n",
    "        'email': '21070878@vnu.edu.vn'}\n",
    "\n",
    "}"
   ]
  },
  {
   "cell_type": "code",
   "execution_count": 71,
   "metadata": {},
   "outputs": [
    {
     "data": {
      "text/plain": [
       "['Name', 'Phone', 'gender', 'Age', 'birthPlace', 'birthDate', 'email']"
      ]
     },
     "execution_count": 71,
     "metadata": {},
     "output_type": "execute_result"
    }
   ],
   "source": [
    "l1 = list(inforDict[0])\n",
    "l1"
   ]
  },
  {
   "cell_type": "code",
   "execution_count": 72,
   "metadata": {},
   "outputs": [],
   "source": [
    "inforDict = {}"
   ]
  },
  {
   "cell_type": "code",
   "execution_count": 73,
   "metadata": {},
   "outputs": [],
   "source": [
    "\n",
    "inforDict[1] = {'Name': 'Nguyễn Văn A',\n",
    "               'Phone': '0987654321',\n",
    "               'gender': 'Nam',\n",
    "               'Age': 25,\n",
    "               'birthPlace': 'Hà Nội',\n",
    "               'birthDate': '10/05/1998'}\n",
    "\n"
   ]
  },
  {
   "cell_type": "code",
   "execution_count": 74,
   "metadata": {},
   "outputs": [
    {
     "data": {
      "text/plain": [
       "{1: {'Name': 'Nguyễn Văn A',\n",
       "  'Phone': '0987654321',\n",
       "  'gender': 'Nam',\n",
       "  'Age': 25,\n",
       "  'birthPlace': 'Hà Nội',\n",
       "  'birthDate': '10/05/1998'}}"
      ]
     },
     "execution_count": 74,
     "metadata": {},
     "output_type": "execute_result"
    }
   ],
   "source": [
    "inforDict"
   ]
  }
 ],
 "metadata": {
  "kernelspec": {
   "display_name": "base",
   "language": "python",
   "name": "python3"
  },
  "language_info": {
   "codemirror_mode": {
    "name": "ipython",
    "version": 3
   },
   "file_extension": ".py",
   "mimetype": "text/x-python",
   "name": "python",
   "nbconvert_exporter": "python",
   "pygments_lexer": "ipython3",
   "version": "3.10.1"
  }
 },
 "nbformat": 4,
 "nbformat_minor": 2
}
