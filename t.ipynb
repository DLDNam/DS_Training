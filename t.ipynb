{
 "cells": [
  {
   "cell_type": "code",
   "execution_count": 1,
   "metadata": {},
   "outputs": [],
   "source": [
    "inforDict = {\n",
    "    0: {'Name': 'Hà Quang Tuấn',\n",
    "        'Phone': '0937623590',\n",
    "        'gender': 'Nam',\n",
    "        'Age': 32,\n",
    "        'birthPlace': 'Thái Bình',\n",
    "        'birthDate': '05/01/1990',\n",
    "        'email': '21093283@vnu.edu.vn'},\n",
    "    1: {'Name': 'Trần Hải Nam',\n",
    "        'Phone': '0981344528',\n",
    "        'gender': 'Nam',\n",
    "        'Age': 31,\n",
    "        'birthPlace': 'Hải Dương',\n",
    "        'birthDate': '20/01/1991',\n",
    "        'email': '21039231@vnu.edu.vn'},\n",
    "    2: {'Name': 'Dương Trung Đức',\n",
    "        'Phone': '0917613311',\n",
    "        'gender': 'Nam',\n",
    "        'birthPlace': 'Hà Nội',\n",
    "        'birthDate': '25/05/1990',\n",
    "        'email': '21083823@vnu.edu.vn'},\n",
    "    3: {'Name': 'Đinh Lê Đức Nam',\n",
    "        'Phone': '0978971659',\n",
    "        'gender': 'Nam',\n",
    "        'birthPlace': 'Tuyên Quang',\n",
    "        'birthDate': '18/10/2003',\n",
    "        'email': '21070878@vnu.edu.vn'},\n",
    "    4: {'Name': 'Nguyễn Thị Hương',\n",
    "        'Phone': '0987654321',\n",
    "        'gender': 'Nữ',\n",
    "        'Age': 28,\n",
    "        'birthPlace': 'Hà Nội',\n",
    "        'birthDate': '10/07/1995',\n",
    "        'email': '21012345@vnu.edu.vn'},\n",
    "    5: {'Name': 'Trần Văn A',\n",
    "        'Phone': '0912345678',\n",
    "        'gender': 'Nam',\n",
    "        'Age': 35,\n",
    "        'birthPlace': 'Hồ Chí Minh',\n",
    "        'birthDate': '15/03/1988',\n",
    "        'email': '21067890@vnu.edu.vn'},\n",
    "    6: {'Name': 'Nguyễn Thị B',\n",
    "        'Phone': '0965432198',\n",
    "        'gender': 'Nữ',\n",
    "        'Age': 29,\n",
    "        'birthPlace': 'Đà Nẵng',\n",
    "        'birthDate': '02/09/1992',\n",
    "        'email': '21054321@vnu.edu.vn'},\n",
    "    7: {'Name': 'Lê Văn C',\n",
    "        'Phone': '0943216789',\n",
    "        'gender': 'Nam',\n",
    "        'Age': 27,\n",
    "        'birthPlace': 'Nghệ An',\n",
    "        'birthDate': '12/11/1994',\n",
    "        'email': '21098765@vnu.edu.vn'},\n",
    "    8: {'Name': 'Phạm Thị D',\n",
    "        'Phone': '0932167890',\n",
    "        'gender': 'Nữ',\n",
    "        'birthPlace': 'Hải Phòng',\n",
    "        'birthDate': '28/06/1993',\n",
    "        'email': '21023456@vnu.edu.vn'}\n",
    "}"
   ]
  },
  {
   "cell_type": "code",
   "execution_count": 18,
   "metadata": {},
   "outputs": [
    {
     "name": "stdout",
     "output_type": "stream",
     "text": [
      "21093283@vnu.edu.vn\n",
      "21039231@vnu.edu.vn\n",
      "21083823@vnu.edu.vn\n",
      "21070878@vnu.edu.vn\n",
      "21012345@vnu.edu.vn\n",
      "21067890@vnu.edu.vn\n",
      "21054321@vnu.edu.vn\n",
      "21098765@vnu.edu.vn\n",
      "21023456@vnu.edu.vn\n",
      "['21093283', '21039231', '21083823', '21070878', '21012345', '21067890', '21054321', '21098765', '21023456']\n"
     ]
    }
   ],
   "source": [
    "a = []\n",
    "for i in inforDict.items():\n",
    "    print(i[1]['email'])\n",
    "    text = (i[1]['email']).split('@')[0]\n",
    "    a.append(text)\n",
    "print(a)\n"
   ]
  },
  {
   "cell_type": "code",
   "execution_count": null,
   "metadata": {},
   "outputs": [],
   "source": []
  },
  {
   "cell_type": "code",
   "execution_count": null,
   "metadata": {},
   "outputs": [],
   "source": []
  }
 ],
 "metadata": {
  "kernelspec": {
   "display_name": "base",
   "language": "python",
   "name": "python3"
  },
  "language_info": {
   "codemirror_mode": {
    "name": "ipython",
    "version": 3
   },
   "file_extension": ".py",
   "mimetype": "text/x-python",
   "name": "python",
   "nbconvert_exporter": "python",
   "pygments_lexer": "ipython3",
   "version": "3.9.13"
  }
 },
 "nbformat": 4,
 "nbformat_minor": 2
}
